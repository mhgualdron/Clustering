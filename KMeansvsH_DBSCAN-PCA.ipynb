{
 "cells": [
  {
   "cell_type": "markdown",
   "id": "1e71b572-d099-4bd2-b75a-abdb1d99c187",
   "metadata": {},
   "source": [
    "# <span style='color:royalblue'> Resolución de problemas de clustering aplicando KMeans, DBSCAN, HDBSCA. Pruebas con y sin PCA <center></center></span>\n",
    "\n",
    "Es interesante responder a la pregunta de **¿Cuál es el método que mejor representa la realidad del dataset?**"
   ]
  },
  {
   "cell_type": "code",
   "execution_count": 2,
   "id": "dbdc549f-8536-4d4e-b717-dd2568556337",
   "metadata": {},
   "outputs": [],
   "source": [
    "from sklearn.cluster import KMeans,AgglomerativeClustering, DBSCAN\n",
    "from sklearn.metrics import silhouette_score\n",
    "from scipy.cluster.hierarchy import dendrogram, linkage\n",
    "import pandas as pd\n",
    "import numpy as np\n",
    "import seaborn as sns\n",
    "import matplotlib.pyplot as plt\n",
    "import os"
   ]
  },
  {
   "cell_type": "code",
   "execution_count": 4,
   "id": "127e8ac0-1884-4f4a-ad3e-83001afbbe8e",
   "metadata": {},
   "outputs": [],
   "source": [
    "os.getcwd()\n",
    "os.chdir('Data')"
   ]
  },
  {
   "cell_type": "markdown",
   "id": "e28a0c5b-76f9-40a6-a9bd-18cca00ee921",
   "metadata": {},
   "source": [
    "## KMeans"
   ]
  },
  {
   "cell_type": "markdown",
   "id": "202f398c-dc5f-4f8e-a0c6-e602f7bbbdbd",
   "metadata": {},
   "source": [
    "### PCA"
   ]
  },
  {
   "cell_type": "code",
   "execution_count": null,
   "id": "e02fc0ad-95c1-4f85-bcd8-7444f96bd55f",
   "metadata": {},
   "outputs": [],
   "source": [
    "Sum_of_squared_distances = []\n",
    "silhouette_scores = []\n",
    "K = range(2,15)\n",
    "for k in K:\n",
    "    km = KMeans(n_clusters=k)\n",
    "    y = km."
   ]
  }
 ],
 "metadata": {
  "kernelspec": {
   "display_name": "Python 3 (ipykernel)",
   "language": "python",
   "name": "python3"
  },
  "language_info": {
   "codemirror_mode": {
    "name": "ipython",
    "version": 3
   },
   "file_extension": ".py",
   "mimetype": "text/x-python",
   "name": "python",
   "nbconvert_exporter": "python",
   "pygments_lexer": "ipython3",
   "version": "3.11.0"
  }
 },
 "nbformat": 4,
 "nbformat_minor": 5
}
