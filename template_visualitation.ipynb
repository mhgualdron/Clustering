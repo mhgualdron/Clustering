{
 "cells": [
  {
   "cell_type": "code",
   "execution_count": 1,
   "id": "4a21b0e5-0083-4ae5-84a8-5ce687987a6f",
   "metadata": {},
   "outputs": [],
   "source": [
    "import plotly.graph_objects as go\n",
    "import plotly.io as pio\n",
    "\n",
    "pio.templates['new_template'] = go.layout.Template()\n",
    "pio.templates['new_template']['layout']['font'] = {'family': 'verdana', 'size': 16, 'color': 'white'}\n",
    "pio.templates['new_template']['layout']['paper_bgcolor'] = 'black'\n",
    "pio.templates['new_template']['layout']['plot_bgcolor'] = 'black'\n",
    "pio.templates['new_template']['layout']['xaxis'] = {'title_standoff': 10, 'linecolor': 'black', 'mirror': True, 'gridcolor': '#EEEEEE'}\n",
    "pio.templates['new_template']['layout']['yaxis'] = {'title_standoff': 10, 'linecolor': 'black', 'mirror': True, 'gridcolor': '#EEEEEE'}\n",
    "pio.templates['new_template']['layout']['legend_bgcolor'] = 'rgb(117, 112, 179)'\n",
    "pio.templates['new_template']['layout']['height'] = 700\n",
    "pio.templates['new_template']['layout']['width'] = 1000\n",
    "pio.templates['new_template']['layout']['autosize'] = False\n",
    "\n",
    "pio.templates.default = 'new_template'"
   ]
  },
  {
   "cell_type": "code",
   "execution_count": null,
   "id": "76263b00-65e1-48a1-a816-01710596ba18",
   "metadata": {},
   "outputs": [],
   "source": []
  }
 ],
 "metadata": {
  "kernelspec": {
   "display_name": "Python 3 (ipykernel)",
   "language": "python",
   "name": "python3"
  },
  "language_info": {
   "codemirror_mode": {
    "name": "ipython",
    "version": 3
   },
   "file_extension": ".py",
   "mimetype": "text/x-python",
   "name": "python",
   "nbconvert_exporter": "python",
   "pygments_lexer": "ipython3",
   "version": "3.11.0"
  }
 },
 "nbformat": 4,
 "nbformat_minor": 5
}
